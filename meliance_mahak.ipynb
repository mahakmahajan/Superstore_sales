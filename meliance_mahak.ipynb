{
  "nbformat": 4,
  "nbformat_minor": 0,
  "metadata": {
    "colab": {
      "name": "meliance_mahak",
      "provenance": [],
      "collapsed_sections": []
    },
    "kernelspec": {
      "name": "python3",
      "display_name": "Python 3"
    }
  },
  "cells": [
    {
      "cell_type": "code",
      "metadata": {
        "id": "WTzwHuZNDCoH"
      },
      "source": [
        "import pandas as pd\r\n",
        "import numpy as np\r\n",
        "import matplotlib.pyplot as plt\r\n",
        "import seaborn as sns"
      ],
      "execution_count": null,
      "outputs": []
    },
    {
      "cell_type": "code",
      "metadata": {
        "colab": {
          "base_uri": "https://localhost:8080/",
          "height": 417
        },
        "id": "y4TkrQA0DhH5",
        "outputId": "ab0416a8-b5fa-4950-fce0-3d28bb5f747a"
      },
      "source": [
        "df = pd.read_csv('/content/drive/MyDrive/Meliance_new_dataset.csv')\r\n",
        "df.head()"
      ],
      "execution_count": null,
      "outputs": [
        {
          "output_type": "execute_result",
          "data": {
            "text/html": [
              "<div>\n",
              "<style scoped>\n",
              "    .dataframe tbody tr th:only-of-type {\n",
              "        vertical-align: middle;\n",
              "    }\n",
              "\n",
              "    .dataframe tbody tr th {\n",
              "        vertical-align: top;\n",
              "    }\n",
              "\n",
              "    .dataframe thead th {\n",
              "        text-align: right;\n",
              "    }\n",
              "</style>\n",
              "<table border=\"1\" class=\"dataframe\">\n",
              "  <thead>\n",
              "    <tr style=\"text-align: right;\">\n",
              "      <th></th>\n",
              "      <th>Invoice ID</th>\n",
              "      <th>Branch</th>\n",
              "      <th>City</th>\n",
              "      <th>Customer type</th>\n",
              "      <th>Gender</th>\n",
              "      <th>Product line</th>\n",
              "      <th>Unit price</th>\n",
              "      <th>Quantity</th>\n",
              "      <th>Tax 5%</th>\n",
              "      <th>Total</th>\n",
              "      <th>Date</th>\n",
              "      <th>Time</th>\n",
              "      <th>Payment</th>\n",
              "      <th>cogs</th>\n",
              "      <th>gross margin percentage</th>\n",
              "      <th>gross income</th>\n",
              "      <th>Rating</th>\n",
              "    </tr>\n",
              "  </thead>\n",
              "  <tbody>\n",
              "    <tr>\n",
              "      <th>0</th>\n",
              "      <td>750-67-8428</td>\n",
              "      <td>A</td>\n",
              "      <td>North South Delhi</td>\n",
              "      <td>Member</td>\n",
              "      <td>Female</td>\n",
              "      <td>Health and beauty</td>\n",
              "      <td>74.69</td>\n",
              "      <td>7.0</td>\n",
              "      <td>26.1415</td>\n",
              "      <td>548.9715</td>\n",
              "      <td>01-05-2019</td>\n",
              "      <td>13:08:00</td>\n",
              "      <td>Ewallet</td>\n",
              "      <td>470.547</td>\n",
              "      <td>14.285714</td>\n",
              "      <td>78.4245</td>\n",
              "      <td>9.1</td>\n",
              "    </tr>\n",
              "    <tr>\n",
              "      <th>1</th>\n",
              "      <td>226-31-3081</td>\n",
              "      <td>C</td>\n",
              "      <td>West Delhi</td>\n",
              "      <td>Normal</td>\n",
              "      <td>Female</td>\n",
              "      <td>Electronic accessories</td>\n",
              "      <td>15.28</td>\n",
              "      <td>5.0</td>\n",
              "      <td>3.8200</td>\n",
              "      <td>80.2200</td>\n",
              "      <td>03-08-2019</td>\n",
              "      <td>10:29:00</td>\n",
              "      <td>Cash</td>\n",
              "      <td>68.760</td>\n",
              "      <td>14.285714</td>\n",
              "      <td>11.4600</td>\n",
              "      <td>9.6</td>\n",
              "    </tr>\n",
              "    <tr>\n",
              "      <th>2</th>\n",
              "      <td>631-41-3108</td>\n",
              "      <td>A</td>\n",
              "      <td>North South Delhi</td>\n",
              "      <td>Normal</td>\n",
              "      <td>Male</td>\n",
              "      <td>Home and lifestyle</td>\n",
              "      <td>46.33</td>\n",
              "      <td>7.0</td>\n",
              "      <td>16.2155</td>\n",
              "      <td>340.5255</td>\n",
              "      <td>03-03-2019</td>\n",
              "      <td>13:23:00</td>\n",
              "      <td>Credit card</td>\n",
              "      <td>291.879</td>\n",
              "      <td>14.285714</td>\n",
              "      <td>48.6465</td>\n",
              "      <td>7.4</td>\n",
              "    </tr>\n",
              "    <tr>\n",
              "      <th>3</th>\n",
              "      <td>123-19-1176</td>\n",
              "      <td>A</td>\n",
              "      <td>North South Delhi</td>\n",
              "      <td>Member</td>\n",
              "      <td>Male</td>\n",
              "      <td>Health and beauty</td>\n",
              "      <td>58.22</td>\n",
              "      <td>8.0</td>\n",
              "      <td>23.2880</td>\n",
              "      <td>489.0480</td>\n",
              "      <td>1/27/19</td>\n",
              "      <td>20:33:00</td>\n",
              "      <td>Ewallet</td>\n",
              "      <td>419.184</td>\n",
              "      <td>14.285714</td>\n",
              "      <td>69.8640</td>\n",
              "      <td>8.4</td>\n",
              "    </tr>\n",
              "    <tr>\n",
              "      <th>4</th>\n",
              "      <td>373-73-7910</td>\n",
              "      <td>A</td>\n",
              "      <td>North South Delhi</td>\n",
              "      <td>Normal</td>\n",
              "      <td>Male</td>\n",
              "      <td>Sports and travel</td>\n",
              "      <td>86.31</td>\n",
              "      <td>7.0</td>\n",
              "      <td>30.2085</td>\n",
              "      <td>634.3785</td>\n",
              "      <td>02-08-2019</td>\n",
              "      <td>10:37:00</td>\n",
              "      <td>Ewallet</td>\n",
              "      <td>543.753</td>\n",
              "      <td>14.285714</td>\n",
              "      <td>90.6255</td>\n",
              "      <td>5.3</td>\n",
              "    </tr>\n",
              "  </tbody>\n",
              "</table>\n",
              "</div>"
            ],
            "text/plain": [
              "    Invoice ID Branch  ... gross income Rating\n",
              "0  750-67-8428      A  ...      78.4245    9.1\n",
              "1  226-31-3081      C  ...      11.4600    9.6\n",
              "2  631-41-3108      A  ...      48.6465    7.4\n",
              "3  123-19-1176      A  ...      69.8640    8.4\n",
              "4  373-73-7910      A  ...      90.6255    5.3\n",
              "\n",
              "[5 rows x 17 columns]"
            ]
          },
          "metadata": {
            "tags": []
          },
          "execution_count": 80
        }
      ]
    },
    {
      "cell_type": "code",
      "metadata": {
        "colab": {
          "base_uri": "https://localhost:8080/",
          "height": 300
        },
        "id": "HjOJXb_0RDJl",
        "outputId": "47c2f576-c69f-4a7c-b40d-effb564b2f7e"
      },
      "source": [
        "df.describe()"
      ],
      "execution_count": null,
      "outputs": [
        {
          "output_type": "execute_result",
          "data": {
            "text/html": [
              "<div>\n",
              "<style scoped>\n",
              "    .dataframe tbody tr th:only-of-type {\n",
              "        vertical-align: middle;\n",
              "    }\n",
              "\n",
              "    .dataframe tbody tr th {\n",
              "        vertical-align: top;\n",
              "    }\n",
              "\n",
              "    .dataframe thead th {\n",
              "        text-align: right;\n",
              "    }\n",
              "</style>\n",
              "<table border=\"1\" class=\"dataframe\">\n",
              "  <thead>\n",
              "    <tr style=\"text-align: right;\">\n",
              "      <th></th>\n",
              "      <th>Unit price</th>\n",
              "      <th>Quantity</th>\n",
              "      <th>Tax 5%</th>\n",
              "      <th>Total</th>\n",
              "      <th>cogs</th>\n",
              "      <th>gross margin percentage</th>\n",
              "      <th>gross income</th>\n",
              "      <th>Rating</th>\n",
              "    </tr>\n",
              "  </thead>\n",
              "  <tbody>\n",
              "    <tr>\n",
              "      <th>count</th>\n",
              "      <td>1003.000000</td>\n",
              "      <td>1003.000000</td>\n",
              "      <td>1003.000000</td>\n",
              "      <td>1003.000000</td>\n",
              "      <td>1003.000000</td>\n",
              "      <td>1.003000e+03</td>\n",
              "      <td>1003.000000</td>\n",
              "      <td>1003.000000</td>\n",
              "    </tr>\n",
              "    <tr>\n",
              "      <th>mean</th>\n",
              "      <td>55.764536</td>\n",
              "      <td>5.501496</td>\n",
              "      <td>15.400368</td>\n",
              "      <td>323.407726</td>\n",
              "      <td>277.206622</td>\n",
              "      <td>1.428571e+01</td>\n",
              "      <td>46.338016</td>\n",
              "      <td>6.972682</td>\n",
              "    </tr>\n",
              "    <tr>\n",
              "      <th>std</th>\n",
              "      <td>26.417403</td>\n",
              "      <td>2.895338</td>\n",
              "      <td>11.715192</td>\n",
              "      <td>246.019028</td>\n",
              "      <td>210.873453</td>\n",
              "      <td>2.061602e-13</td>\n",
              "      <td>34.634089</td>\n",
              "      <td>1.717647</td>\n",
              "    </tr>\n",
              "    <tr>\n",
              "      <th>min</th>\n",
              "      <td>10.080000</td>\n",
              "      <td>1.000000</td>\n",
              "      <td>0.508500</td>\n",
              "      <td>10.678500</td>\n",
              "      <td>9.153000</td>\n",
              "      <td>1.428571e+01</td>\n",
              "      <td>1.525500</td>\n",
              "      <td>4.000000</td>\n",
              "    </tr>\n",
              "    <tr>\n",
              "      <th>25%</th>\n",
              "      <td>33.235000</td>\n",
              "      <td>3.000000</td>\n",
              "      <td>5.894750</td>\n",
              "      <td>123.789750</td>\n",
              "      <td>106.105500</td>\n",
              "      <td>1.428571e+01</td>\n",
              "      <td>18.317250</td>\n",
              "      <td>5.500000</td>\n",
              "    </tr>\n",
              "    <tr>\n",
              "      <th>50%</th>\n",
              "      <td>55.610000</td>\n",
              "      <td>5.500000</td>\n",
              "      <td>12.096000</td>\n",
              "      <td>254.016000</td>\n",
              "      <td>217.728000</td>\n",
              "      <td>1.428571e+01</td>\n",
              "      <td>38.004000</td>\n",
              "      <td>7.000000</td>\n",
              "    </tr>\n",
              "    <tr>\n",
              "      <th>75%</th>\n",
              "      <td>77.940000</td>\n",
              "      <td>8.000000</td>\n",
              "      <td>22.539500</td>\n",
              "      <td>473.329500</td>\n",
              "      <td>405.711000</td>\n",
              "      <td>1.428571e+01</td>\n",
              "      <td>67.084500</td>\n",
              "      <td>8.500000</td>\n",
              "    </tr>\n",
              "    <tr>\n",
              "      <th>max</th>\n",
              "      <td>99.960000</td>\n",
              "      <td>10.000000</td>\n",
              "      <td>49.650000</td>\n",
              "      <td>1042.650000</td>\n",
              "      <td>893.700000</td>\n",
              "      <td>1.428571e+01</td>\n",
              "      <td>148.950000</td>\n",
              "      <td>10.000000</td>\n",
              "    </tr>\n",
              "  </tbody>\n",
              "</table>\n",
              "</div>"
            ],
            "text/plain": [
              "        Unit price     Quantity  ...  gross income       Rating\n",
              "count  1003.000000  1003.000000  ...   1003.000000  1003.000000\n",
              "mean     55.764536     5.501496  ...     46.338016     6.972682\n",
              "std      26.417403     2.895338  ...     34.634089     1.717647\n",
              "min      10.080000     1.000000  ...      1.525500     4.000000\n",
              "25%      33.235000     3.000000  ...     18.317250     5.500000\n",
              "50%      55.610000     5.500000  ...     38.004000     7.000000\n",
              "75%      77.940000     8.000000  ...     67.084500     8.500000\n",
              "max      99.960000    10.000000  ...    148.950000    10.000000\n",
              "\n",
              "[8 rows x 8 columns]"
            ]
          },
          "metadata": {
            "tags": []
          },
          "execution_count": 3
        }
      ]
    },
    {
      "cell_type": "code",
      "metadata": {
        "colab": {
          "base_uri": "https://localhost:8080/"
        },
        "id": "GKyxHJqoRG_h",
        "outputId": "989c48f1-d324-4af2-c3c2-a22d0d4b3147"
      },
      "source": [
        "df.info()"
      ],
      "execution_count": null,
      "outputs": [
        {
          "output_type": "stream",
          "text": [
            "<class 'pandas.core.frame.DataFrame'>\n",
            "RangeIndex: 1003 entries, 0 to 1002\n",
            "Data columns (total 17 columns):\n",
            " #   Column                   Non-Null Count  Dtype  \n",
            "---  ------                   --------------  -----  \n",
            " 0   Invoice ID               1003 non-null   object \n",
            " 1   Branch                   1003 non-null   object \n",
            " 2   City                     1003 non-null   object \n",
            " 3   Customer type            1003 non-null   object \n",
            " 4   Gender                   1003 non-null   object \n",
            " 5   Product line             1003 non-null   object \n",
            " 6   Unit price               1003 non-null   float64\n",
            " 7   Quantity                 1003 non-null   float64\n",
            " 8   Tax 5%                   1003 non-null   float64\n",
            " 9   Total                    1003 non-null   float64\n",
            " 10  Date                     1003 non-null   object \n",
            " 11  Time                     1003 non-null   object \n",
            " 12  Payment                  1003 non-null   object \n",
            " 13  cogs                     1003 non-null   float64\n",
            " 14  gross margin percentage  1003 non-null   float64\n",
            " 15  gross income             1003 non-null   float64\n",
            " 16  Rating                   1003 non-null   float64\n",
            "dtypes: float64(8), object(9)\n",
            "memory usage: 133.3+ KB\n"
          ],
          "name": "stdout"
        }
      ]
    },
    {
      "cell_type": "code",
      "metadata": {
        "colab": {
          "base_uri": "https://localhost:8080/"
        },
        "id": "p-1P3__yRWdd",
        "outputId": "69edd603-f010-4d25-a221-cfdb2c235f25"
      },
      "source": [
        "df.isnull().sum()"
      ],
      "execution_count": null,
      "outputs": [
        {
          "output_type": "execute_result",
          "data": {
            "text/plain": [
              "Invoice ID                 0\n",
              "Branch                     0\n",
              "City                       0\n",
              "Customer type              0\n",
              "Gender                     0\n",
              "Product line               0\n",
              "Unit price                 0\n",
              "Quantity                   0\n",
              "Tax 5%                     0\n",
              "Total                      0\n",
              "Date                       0\n",
              "Time                       0\n",
              "Payment                    0\n",
              "cogs                       0\n",
              "gross margin percentage    0\n",
              "gross income               0\n",
              "Rating                     0\n",
              "dtype: int64"
            ]
          },
          "metadata": {
            "tags": []
          },
          "execution_count": 5
        }
      ]
    },
    {
      "cell_type": "markdown",
      "metadata": {
        "id": "aWvsYLQX5xaU"
      },
      "source": [
        "# EDA"
      ]
    },
    {
      "cell_type": "code",
      "metadata": {
        "id": "ykfpoMJrOPjj"
      },
      "source": [
        "def how_many_in_cat_print(df, variable):\r\n",
        "    print(df.groupby(variable)[variable].count())  \r\n",
        "    print()"
      ],
      "execution_count": null,
      "outputs": []
    },
    {
      "cell_type": "code",
      "metadata": {
        "id": "a1tuZik2PAGG"
      },
      "source": [
        "import matplotlib.pyplot as plt\r\n",
        "\r\n",
        "def how_many_in_cat_plot(df, variable, color, a, i):\r\n",
        "    ax = plt.subplot(3, 3, (i+1))\r\n",
        "    ax.tick_params(labelrotation=15)\r\n",
        "    #df[variable].hist(ax = ax)\r\n",
        "    plt.hist(df[variable], facecolor = color, alpha=a)\r\n",
        "    plt.title(variable)"
      ],
      "execution_count": null,
      "outputs": []
    },
    {
      "cell_type": "code",
      "metadata": {
        "colab": {
          "base_uri": "https://localhost:8080/"
        },
        "id": "GkyXmTtgPDFF",
        "outputId": "37709649-af20-4ede-9bdc-615f24a6710b"
      },
      "source": [
        "for i, feature in enumerate(['Branch', 'City', 'Customer type', 'Gender','Product line','Quantity', 'Payment', 'gross margin percentage']):\r\n",
        "    how_many_in_cat_print(df, feature)"
      ],
      "execution_count": null,
      "outputs": [
        {
          "output_type": "stream",
          "text": [
            "Branch\n",
            "A    342\n",
            "B    333\n",
            "C    328\n",
            "Name: Branch, dtype: int64\n",
            "\n",
            "City\n",
            "North South Delhi    342\n",
            "South Delhi          333\n",
            "West Delhi           328\n",
            "Name: City, dtype: int64\n",
            "\n",
            "Customer type\n",
            "Member    502\n",
            "Normal    501\n",
            "Name: Customer type, dtype: int64\n",
            "\n",
            "Gender\n",
            "Female    502\n",
            "Male      501\n",
            "Name: Gender, dtype: int64\n",
            "\n",
            "Product line\n",
            "Electronic accessories    172\n",
            "Fashion accessories       179\n",
            "Food and beverages        174\n",
            "Health and beauty         152\n",
            "Home and lifestyle        160\n",
            "Sports and travel         166\n",
            "Name: Product line, dtype: int64\n",
            "\n",
            "Quantity\n",
            "1.0     111\n",
            "2.0      89\n",
            "3.0      89\n",
            "4.0     108\n",
            "5.0     100\n",
            "5.5      20\n",
            "6.0      96\n",
            "7.0     100\n",
            "8.0      82\n",
            "9.0      92\n",
            "10.0    116\n",
            "Name: Quantity, dtype: int64\n",
            "\n",
            "Payment\n",
            "Cash           346\n",
            "Credit card    311\n",
            "Ewallet        346\n",
            "Name: Payment, dtype: int64\n",
            "\n",
            "gross margin percentage\n",
            "14.285714    1003\n",
            "Name: gross margin percentage, dtype: int64\n",
            "\n"
          ],
          "name": "stdout"
        }
      ]
    },
    {
      "cell_type": "code",
      "metadata": {
        "colab": {
          "base_uri": "https://localhost:8080/",
          "height": 314
        },
        "id": "FDY_imZf56ne",
        "outputId": "ec4f45a3-b466-49d9-c8d4-e80ce63150a2"
      },
      "source": [
        " sns.countplot(x=\"Customer type\", hue = \"Branch\", data =df).set_title(\"Customer Type by Branch\")"
      ],
      "execution_count": null,
      "outputs": [
        {
          "output_type": "execute_result",
          "data": {
            "text/plain": [
              "Text(0.5, 1.0, 'Customer Type by Branch')"
            ]
          },
          "metadata": {
            "tags": []
          },
          "execution_count": 9
        },
        {
          "output_type": "display_data",
          "data": {
            "image/png": "[encoded data removed]",
            "text/plain": [
              "<Figure size 432x288 with 1 Axes>"
            ]
          },
          "metadata": {
            "tags": [],
            "needs_background": "light"
          }
        }
      ]
    },
    {
      "cell_type": "code",
      "metadata": {
        "id": "ptEXjbas6WKW",
        "colab": {
          "base_uri": "https://localhost:8080/",
          "height": 314
        },
        "outputId": "e31a0b85-6bd6-4816-a019-e7d7f5916e12"
      },
      "source": [
        " sns.countplot(x=\"Payment\", data =df).set_title(\"Payment Mode\")"
      ],
      "execution_count": null,
      "outputs": [
        {
          "output_type": "execute_result",
          "data": {
            "text/plain": [
              "Text(0.5, 1.0, 'Payment Mode')"
            ]
          },
          "metadata": {
            "tags": []
          },
          "execution_count": 10
        },
        {
          "output_type": "display_data",
          "data": {
            "image/png": "[encoded data removed]",
            "text/plain": [
              "<Figure size 432x288 with 1 Axes>"
            ]
          },
          "metadata": {
            "tags": [],
            "needs_background": "light"
          }
        }
      ]
    },
    {
      "cell_type": "code",
      "metadata": {
        "colab": {
          "base_uri": "https://localhost:8080/",
          "height": 314
        },
        "id": "MPfwK5Ta6Bzc",
        "outputId": "6f3f1932-1096-45dc-d167-83286119ec37"
      },
      "source": [
        "sns.countplot(x=\"Payment\", hue = \"Branch\", data =df).set_title(\"Payment Channel by Branch\")"
      ],
      "execution_count": null,
      "outputs": [
        {
          "output_type": "execute_result",
          "data": {
            "text/plain": [
              "Text(0.5, 1.0, 'Payment Channel by Branch')"
            ]
          },
          "metadata": {
            "tags": []
          },
          "execution_count": 11
        },
        {
          "output_type": "display_data",
          "data": {
            "image/png": "[encoded data removed]",
            "text/plain": [
              "<Figure size 432x288 with 1 Axes>"
            ]
          },
          "metadata": {
            "tags": [],
            "needs_background": "light"
          }
        }
      ]
    },
    {
      "cell_type": "markdown",
      "metadata": {
        "id": "Tg8MiR4S5eHw"
      },
      "source": [
        "# Problem 1\r\n",
        "According to Market Research by Meliance superstore it is suggested if a\r\n",
        "company gives Discount vouchers worth ₹150 for sales more than ₹600,\r\n",
        "the company will experience a rise of 10% in its sales. Is this alternative\r\n",
        "cost-effective? Support your answer with valid justification."
      ]
    },
    {
      "cell_type": "code",
      "metadata": {
        "id": "NuO-nwOmR9sx"
      },
      "source": [
        "sales = df['Total'].sum()"
      ],
      "execution_count": null,
      "outputs": []
    },
    {
      "cell_type": "code",
      "metadata": {
        "id": "ITgO_C-IPKmR"
      },
      "source": [
        "increse_in_sales= df['Total'].sum()*1.10"
      ],
      "execution_count": null,
      "outputs": []
    },
    {
      "cell_type": "code",
      "metadata": {
        "id": "vbipFJ5KSF3w"
      },
      "source": [
        "cutomers_with_voucher = df[df['Total']>600]['Total'].count()"
      ],
      "execution_count": null,
      "outputs": []
    },
    {
      "cell_type": "code",
      "metadata": {
        "id": "tYwpfeuWSHtS"
      },
      "source": [
        "price_of_the_voucher = 150"
      ],
      "execution_count": null,
      "outputs": []
    },
    {
      "cell_type": "code",
      "metadata": {
        "colab": {
          "base_uri": "https://localhost:8080/"
        },
        "id": "8GWhBkKISJhN",
        "outputId": "7a92c582-21a2-448b-a49d-544c3a518681"
      },
      "source": [
        "round(increse_in_sales - sales)"
      ],
      "execution_count": null,
      "outputs": [
        {
          "output_type": "execute_result",
          "data": {
            "text/plain": [
              "32438"
            ]
          },
          "metadata": {
            "tags": []
          },
          "execution_count": 16
        }
      ]
    },
    {
      "cell_type": "code",
      "metadata": {
        "colab": {
          "base_uri": "https://localhost:8080/"
        },
        "id": "WzjfL_DVSLvN",
        "outputId": "4781fa6b-512d-42f0-b03f-e0fae70412f4"
      },
      "source": [
        "cutomers_with_voucher * 150"
      ],
      "execution_count": null,
      "outputs": [
        {
          "output_type": "execute_result",
          "data": {
            "text/plain": [
              "24300"
            ]
          },
          "metadata": {
            "tags": []
          },
          "execution_count": 17
        }
      ]
    },
    {
      "cell_type": "markdown",
      "metadata": {
        "id": "IpwtyI5-SS-A"
      },
      "source": [
        "**Cost of vouchers < increase in sales. So this alternative will be cost effective**"
      ]
    },
    {
      "cell_type": "markdown",
      "metadata": {
        "id": "HCaCdgrY7Dml"
      },
      "source": [
        "# Problem 2 \r\n",
        "It is believed that customers coming in during peak hours give a lower satisfaction rating than those coming in during the non-peak hours. Analyse the data to find out if this assumption is true or not. Further, present the results to the Stakeholders in an interpretable format and make suggestions to increase employee productivity during peak hours."
      ]
    },
    {
      "cell_type": "code",
      "metadata": {
        "colab": {
          "base_uri": "https://localhost:8080/"
        },
        "id": "seNvI2ZcD8KR",
        "outputId": "897e0afe-20da-417d-baa1-57c1c639e43c"
      },
      "source": [
        "df['Date'] = pd.to_datetime(df['Date'])\r\n",
        "df['weekday'] = df['Date'].dt.day_name()\r\n",
        "df['weekday'].unique()"
      ],
      "execution_count": null,
      "outputs": [
        {
          "output_type": "execute_result",
          "data": {
            "text/plain": [
              "array(['Saturday', 'Friday', 'Sunday', 'Monday', 'Thursday', 'Wednesday',\n",
              "       'Tuesday'], dtype=object)"
            ]
          },
          "metadata": {
            "tags": []
          },
          "execution_count": 81
        }
      ]
    },
    {
      "cell_type": "code",
      "metadata": {
        "colab": {
          "base_uri": "https://localhost:8080/"
        },
        "id": "DHLLxqYQECEQ",
        "outputId": "21d4b35d-b917-4725-ddd3-cfb78cd7eb3b"
      },
      "source": [
        "df['month_name'] = df['Date'].dt.month_name()\r\n",
        "df['month_name'].unique()"
      ],
      "execution_count": null,
      "outputs": [
        {
          "output_type": "execute_result",
          "data": {
            "text/plain": [
              "array(['January', 'March', 'February'], dtype=object)"
            ]
          },
          "metadata": {
            "tags": []
          },
          "execution_count": 82
        }
      ]
    },
    {
      "cell_type": "code",
      "metadata": {
        "colab": {
          "base_uri": "https://localhost:8080/"
        },
        "id": "y0ig-j7Qa9dG",
        "outputId": "355a0d24-2b2c-40a8-9811-e0927fb481ca"
      },
      "source": [
        "df['Time'] = pd.to_datetime(df['Time'])\r\n",
        "df['Hour'] = (df['Time']).dt.hour\r\n",
        "df['Hour'].unique()"
      ],
      "execution_count": null,
      "outputs": [
        {
          "output_type": "execute_result",
          "data": {
            "text/plain": [
              "array([13, 10, 20, 18, 14, 11, 17, 16, 19, 15, 12])"
            ]
          },
          "metadata": {
            "tags": []
          },
          "execution_count": 83
        }
      ]
    },
    {
      "cell_type": "code",
      "metadata": {
        "colab": {
          "base_uri": "https://localhost:8080/",
          "height": 480
        },
        "id": "zNqKwXnUEM4M",
        "outputId": "58f3e2dd-0e69-4410-d179-03f226b2128a"
      },
      "source": [
        "plt.figure(figsize=(8, 6))\r\n",
        "plt.title('Daily Sales made')\r\n",
        "sns.countplot(df['weekday'])"
      ],
      "execution_count": null,
      "outputs": [
        {
          "output_type": "stream",
          "text": [
            "/usr/local/lib/python3.7/dist-packages/seaborn/_decorators.py:43: FutureWarning: Pass the following variable as a keyword arg: x. From version 0.12, the only valid positional argument will be `data`, and passing other arguments without an explicit keyword will result in an error or misinterpretation.\n",
            "  FutureWarning\n"
          ],
          "name": "stderr"
        },
        {
          "output_type": "execute_result",
          "data": {
            "text/plain": [
              "<matplotlib.axes._subplots.AxesSubplot at 0x7f42456f7d10>"
            ]
          },
          "metadata": {
            "tags": []
          },
          "execution_count": 21
        },
        {
          "output_type": "display_data",
          "data": {
            "image/png": "[encoded data removed]",
            "text/plain": [
              "<Figure size 576x432 with 1 Axes>"
            ]
          },
          "metadata": {
            "tags": [],
            "needs_background": "light"
          }
        }
      ]
    },
    {
      "cell_type": "code",
      "metadata": {
        "colab": {
          "base_uri": "https://localhost:8080/"
        },
        "id": "m990BxCDa_3g",
        "outputId": "058f196e-5119-46b6-cf1f-4fd4571874db"
      },
      "source": [
        "categorical_columns = [cname for cname in df.columns if df[cname].dtype == \"object\"]\r\n",
        "categorical_columns"
      ],
      "execution_count": null,
      "outputs": [
        {
          "output_type": "execute_result",
          "data": {
            "text/plain": [
              "['Invoice ID',\n",
              " 'Branch',\n",
              " 'City',\n",
              " 'Customer type',\n",
              " 'Gender',\n",
              " 'Product line',\n",
              " 'Payment',\n",
              " 'weekday',\n",
              " 'month_name']"
            ]
          },
          "metadata": {
            "tags": []
          },
          "execution_count": 22
        }
      ]
    },
    {
      "cell_type": "code",
      "metadata": {
        "colab": {
          "base_uri": "https://localhost:8080/",
          "height": 350
        },
        "id": "fk6bf2CRbC9Q",
        "outputId": "1eb7375b-702c-4da0-a14e-3dc3608a4ec9"
      },
      "source": [
        "print(\"A detailed description of the dataset \")\r\n",
        "d = df.describe().T\r\n",
        "d"
      ],
      "execution_count": null,
      "outputs": [
        {
          "output_type": "stream",
          "text": [
            "A detailed description of the dataset \n"
          ],
          "name": "stdout"
        },
        {
          "output_type": "execute_result",
          "data": {
            "text/html": [
              "<div>\n",
              "<style scoped>\n",
              "    .dataframe tbody tr th:only-of-type {\n",
              "        vertical-align: middle;\n",
              "    }\n",
              "\n",
              "    .dataframe tbody tr th {\n",
              "        vertical-align: top;\n",
              "    }\n",
              "\n",
              "    .dataframe thead th {\n",
              "        text-align: right;\n",
              "    }\n",
              "</style>\n",
              "<table border=\"1\" class=\"dataframe\">\n",
              "  <thead>\n",
              "    <tr style=\"text-align: right;\">\n",
              "      <th></th>\n",
              "      <th>count</th>\n",
              "      <th>mean</th>\n",
              "      <th>std</th>\n",
              "      <th>min</th>\n",
              "      <th>25%</th>\n",
              "      <th>50%</th>\n",
              "      <th>75%</th>\n",
              "      <th>max</th>\n",
              "    </tr>\n",
              "  </thead>\n",
              "  <tbody>\n",
              "    <tr>\n",
              "      <th>Unit price</th>\n",
              "      <td>1003.0</td>\n",
              "      <td>55.764536</td>\n",
              "      <td>2.641740e+01</td>\n",
              "      <td>10.080000</td>\n",
              "      <td>33.235000</td>\n",
              "      <td>55.610000</td>\n",
              "      <td>77.940000</td>\n",
              "      <td>99.960000</td>\n",
              "    </tr>\n",
              "    <tr>\n",
              "      <th>Quantity</th>\n",
              "      <td>1003.0</td>\n",
              "      <td>5.501496</td>\n",
              "      <td>2.895338e+00</td>\n",
              "      <td>1.000000</td>\n",
              "      <td>3.000000</td>\n",
              "      <td>5.500000</td>\n",
              "      <td>8.000000</td>\n",
              "      <td>10.000000</td>\n",
              "    </tr>\n",
              "    <tr>\n",
              "      <th>Tax 5%</th>\n",
              "      <td>1003.0</td>\n",
              "      <td>15.400368</td>\n",
              "      <td>1.171519e+01</td>\n",
              "      <td>0.508500</td>\n",
              "      <td>5.894750</td>\n",
              "      <td>12.096000</td>\n",
              "      <td>22.539500</td>\n",
              "      <td>49.650000</td>\n",
              "    </tr>\n",
              "    <tr>\n",
              "      <th>Total</th>\n",
              "      <td>1003.0</td>\n",
              "      <td>323.407726</td>\n",
              "      <td>2.460190e+02</td>\n",
              "      <td>10.678500</td>\n",
              "      <td>123.789750</td>\n",
              "      <td>254.016000</td>\n",
              "      <td>473.329500</td>\n",
              "      <td>1042.650000</td>\n",
              "    </tr>\n",
              "    <tr>\n",
              "      <th>cogs</th>\n",
              "      <td>1003.0</td>\n",
              "      <td>277.206622</td>\n",
              "      <td>2.108735e+02</td>\n",
              "      <td>9.153000</td>\n",
              "      <td>106.105500</td>\n",
              "      <td>217.728000</td>\n",
              "      <td>405.711000</td>\n",
              "      <td>893.700000</td>\n",
              "    </tr>\n",
              "    <tr>\n",
              "      <th>gross margin percentage</th>\n",
              "      <td>1003.0</td>\n",
              "      <td>14.285714</td>\n",
              "      <td>2.061602e-13</td>\n",
              "      <td>14.285714</td>\n",
              "      <td>14.285714</td>\n",
              "      <td>14.285714</td>\n",
              "      <td>14.285714</td>\n",
              "      <td>14.285714</td>\n",
              "    </tr>\n",
              "    <tr>\n",
              "      <th>gross income</th>\n",
              "      <td>1003.0</td>\n",
              "      <td>46.338016</td>\n",
              "      <td>3.463409e+01</td>\n",
              "      <td>1.525500</td>\n",
              "      <td>18.317250</td>\n",
              "      <td>38.004000</td>\n",
              "      <td>67.084500</td>\n",
              "      <td>148.950000</td>\n",
              "    </tr>\n",
              "    <tr>\n",
              "      <th>Rating</th>\n",
              "      <td>1003.0</td>\n",
              "      <td>6.972682</td>\n",
              "      <td>1.717647e+00</td>\n",
              "      <td>4.000000</td>\n",
              "      <td>5.500000</td>\n",
              "      <td>7.000000</td>\n",
              "      <td>8.500000</td>\n",
              "      <td>10.000000</td>\n",
              "    </tr>\n",
              "    <tr>\n",
              "      <th>Hour</th>\n",
              "      <td>1003.0</td>\n",
              "      <td>14.913260</td>\n",
              "      <td>3.186714e+00</td>\n",
              "      <td>10.000000</td>\n",
              "      <td>12.000000</td>\n",
              "      <td>15.000000</td>\n",
              "      <td>18.000000</td>\n",
              "      <td>20.000000</td>\n",
              "    </tr>\n",
              "  </tbody>\n",
              "</table>\n",
              "</div>"
            ],
            "text/plain": [
              "                          count        mean  ...         75%          max\n",
              "Unit price               1003.0   55.764536  ...   77.940000    99.960000\n",
              "Quantity                 1003.0    5.501496  ...    8.000000    10.000000\n",
              "Tax 5%                   1003.0   15.400368  ...   22.539500    49.650000\n",
              "Total                    1003.0  323.407726  ...  473.329500  1042.650000\n",
              "cogs                     1003.0  277.206622  ...  405.711000   893.700000\n",
              "gross margin percentage  1003.0   14.285714  ...   14.285714    14.285714\n",
              "gross income             1003.0   46.338016  ...   67.084500   148.950000\n",
              "Rating                   1003.0    6.972682  ...    8.500000    10.000000\n",
              "Hour                     1003.0   14.913260  ...   18.000000    20.000000\n",
              "\n",
              "[9 rows x 8 columns]"
            ]
          },
          "metadata": {
            "tags": []
          },
          "execution_count": 23
        }
      ]
    },
    {
      "cell_type": "code",
      "metadata": {
        "colab": {
          "base_uri": "https://localhost:8080/",
          "height": 314
        },
        "id": "8s8oUz4vbGzb",
        "outputId": "bc2468c9-0bc0-4793-83a0-ebce64b29a9f"
      },
      "source": [
        "sns.lineplot(x=\"Hour\",  y = 'Quantity',data =df).set_title(\"Product Sales per Hour\")\r\n"
      ],
      "execution_count": null,
      "outputs": [
        {
          "output_type": "execute_result",
          "data": {
            "text/plain": [
              "Text(0.5, 1.0, 'Product Sales per Hour')"
            ]
          },
          "metadata": {
            "tags": []
          },
          "execution_count": 24
        },
        {
          "output_type": "display_data",
          "data": {
            "image/png": "[encoded data removed]",
            "text/plain": [
              "<Figure size 432x288 with 1 Axes>"
            ]
          },
          "metadata": {
            "tags": [],
            "needs_background": "light"
          }
        }
      ]
    },
    {
      "cell_type": "markdown",
      "metadata": {
        "id": "LNWQ1YHScKvY"
      },
      "source": [
        "**Peak was achieved during the 14th hour of the day, So more quantity is been sold in Afternoon**"
      ]
    },
    {
      "cell_type": "code",
      "metadata": {
        "colab": {
          "base_uri": "https://localhost:8080/",
          "height": 258
        },
        "id": "lujq3DOOLuig",
        "outputId": "5572c4cf-1c9f-4b6f-fc4a-0e99fabca7b7"
      },
      "source": [
        "sns.relplot(x = 'Hour', y = 'Rating',data = df, kind = 'line',  height = 3)"
      ],
      "execution_count": null,
      "outputs": [
        {
          "output_type": "execute_result",
          "data": {
            "text/plain": [
              "<seaborn.axisgrid.FacetGrid at 0x7f42302bf950>"
            ]
          },
          "metadata": {
            "tags": []
          },
          "execution_count": 89
        },
        {
          "output_type": "display_data",
          "data": {
            "image/png": "[encoded data removed]",
            "text/plain": [
              "<Figure size 216x216 with 1 Axes>"
            ]
          },
          "metadata": {
            "tags": [],
            "needs_background": "light"
          }
        }
      ]
    },
    {
      "cell_type": "code",
      "metadata": {
        "colab": {
          "base_uri": "https://localhost:8080/",
          "height": 298
        },
        "id": "jh-zatoXMKGS",
        "outputId": "7d2118df-05a8-4b69-ef15-3140dce0522e"
      },
      "source": [
        "# Members' visit hour\r\n",
        "sns.countplot(x = 'Hour', hue = 'Customer type', data = df)"
      ],
      "execution_count": null,
      "outputs": [
        {
          "output_type": "execute_result",
          "data": {
            "text/plain": [
              "<matplotlib.axes._subplots.AxesSubplot at 0x7f4231e07110>"
            ]
          },
          "metadata": {
            "tags": []
          },
          "execution_count": 49
        },
        {
          "output_type": "display_data",
          "data": {
            "image/png": "[encoded data removed]",
            "text/plain": [
              "<Figure size 432x288 with 1 Axes>"
            ]
          },
          "metadata": {
            "tags": [],
            "needs_background": "light"
          }
        }
      ]
    },
    {
      "cell_type": "code",
      "metadata": {
        "colab": {
          "base_uri": "https://localhost:8080/",
          "height": 298
        },
        "id": "gWSon_aRMU3M",
        "outputId": "da52f4f2-6535-4d3f-8b39-b6d54f35b9d7"
      },
      "source": [
        "sns.boxenplot(y = 'Product line', x = 'Quantity', data=df )"
      ],
      "execution_count": null,
      "outputs": [
        {
          "output_type": "execute_result",
          "data": {
            "text/plain": [
              "<matplotlib.axes._subplots.AxesSubplot at 0x7f423088d110>"
            ]
          },
          "metadata": {
            "tags": []
          },
          "execution_count": 78
        },
        {
          "output_type": "display_data",
          "data": {
            "image/png": "[encoded data removed]",
            "text/plain": [
              "<Figure size 432x288 with 1 Axes>"
            ]
          },
          "metadata": {
            "tags": [],
            "needs_background": "light"
          }
        }
      ]
    },
    {
      "cell_type": "markdown",
      "metadata": {
        "id": "n-tOAGDGnJwL"
      },
      "source": [
        "Food and beverages, fashion accessories has less mean quantity whereas we have seen that both of these categories had high rating. So we need to increase our supply."
      ]
    },
    {
      "cell_type": "markdown",
      "metadata": {
        "id": "S6S0Mr21AfCZ"
      },
      "source": [
        "# Problem 3\r\n",
        "The gender diversity among customers has always been an interesting aspect for the Stakeholders and they are planning to launch a promotional campaign as part of the upcoming \"Women's Day\" celebrations. Use Visualization tools to determine the ratio of sales for each Product Category among the given genders. Also, suggest which Product Category should be put on Sale as part of the campaign."
      ]
    },
    {
      "cell_type": "code",
      "metadata": {
        "colab": {
          "base_uri": "https://localhost:8080/"
        },
        "id": "84kp4e7EduHm",
        "outputId": "d6ffb9b6-9d27-43e7-ede7-be7f06b4566c"
      },
      "source": [
        "print(df.shape)\r\n",
        "df['Gender'].value_counts()"
      ],
      "execution_count": null,
      "outputs": [
        {
          "output_type": "stream",
          "text": [
            "(1003, 20)\n"
          ],
          "name": "stdout"
        },
        {
          "output_type": "execute_result",
          "data": {
            "text/plain": [
              "Female    502\n",
              "Male      501\n",
              "Name: Gender, dtype: int64"
            ]
          },
          "metadata": {
            "tags": []
          },
          "execution_count": 33
        }
      ]
    },
    {
      "cell_type": "code",
      "metadata": {
        "colab": {
          "base_uri": "https://localhost:8080/",
          "height": 355
        },
        "id": "MD2jmSGjduEG",
        "outputId": "471cb504-08c8-4636-8df5-85d26133520e"
      },
      "source": [
        "sns.countplot('Gender' , data = df)"
      ],
      "execution_count": null,
      "outputs": [
        {
          "output_type": "stream",
          "text": [
            "/usr/local/lib/python3.7/dist-packages/seaborn/_decorators.py:43: FutureWarning: Pass the following variable as a keyword arg: x. From version 0.12, the only valid positional argument will be `data`, and passing other arguments without an explicit keyword will result in an error or misinterpretation.\n",
            "  FutureWarning\n"
          ],
          "name": "stderr"
        },
        {
          "output_type": "execute_result",
          "data": {
            "text/plain": [
              "<matplotlib.axes._subplots.AxesSubplot at 0x7f423257fd50>"
            ]
          },
          "metadata": {
            "tags": []
          },
          "execution_count": 34
        },
        {
          "output_type": "display_data",
          "data": {
            "image/png": "[encoded data removed]",
            "text/plain": [
              "<Figure size 432x288 with 1 Axes>"
            ]
          },
          "metadata": {
            "tags": [],
            "needs_background": "light"
          }
        }
      ]
    },
    {
      "cell_type": "markdown",
      "metadata": {
        "id": "SKrZmiXRd9GD"
      },
      "source": [
        "Creating dummies for Gender column for getting numeric data for seaborn bar plot"
      ]
    },
    {
      "cell_type": "code",
      "metadata": {
        "colab": {
          "base_uri": "https://localhost:8080/",
          "height": 206
        },
        "id": "caNgirF-duBp",
        "outputId": "58a9a36e-7ca9-4c3a-9dd5-5ed9e165768d"
      },
      "source": [
        "gender_dummies  = pd.get_dummies(df['Gender'])\r\n",
        "gender_dummies.head()"
      ],
      "execution_count": null,
      "outputs": [
        {
          "output_type": "execute_result",
          "data": {
            "text/html": [
              "<div>\n",
              "<style scoped>\n",
              "    .dataframe tbody tr th:only-of-type {\n",
              "        vertical-align: middle;\n",
              "    }\n",
              "\n",
              "    .dataframe tbody tr th {\n",
              "        vertical-align: top;\n",
              "    }\n",
              "\n",
              "    .dataframe thead th {\n",
              "        text-align: right;\n",
              "    }\n",
              "</style>\n",
              "<table border=\"1\" class=\"dataframe\">\n",
              "  <thead>\n",
              "    <tr style=\"text-align: right;\">\n",
              "      <th></th>\n",
              "      <th>Female</th>\n",
              "      <th>Male</th>\n",
              "    </tr>\n",
              "  </thead>\n",
              "  <tbody>\n",
              "    <tr>\n",
              "      <th>0</th>\n",
              "      <td>1</td>\n",
              "      <td>0</td>\n",
              "    </tr>\n",
              "    <tr>\n",
              "      <th>1</th>\n",
              "      <td>1</td>\n",
              "      <td>0</td>\n",
              "    </tr>\n",
              "    <tr>\n",
              "      <th>2</th>\n",
              "      <td>0</td>\n",
              "      <td>1</td>\n",
              "    </tr>\n",
              "    <tr>\n",
              "      <th>3</th>\n",
              "      <td>0</td>\n",
              "      <td>1</td>\n",
              "    </tr>\n",
              "    <tr>\n",
              "      <th>4</th>\n",
              "      <td>0</td>\n",
              "      <td>1</td>\n",
              "    </tr>\n",
              "  </tbody>\n",
              "</table>\n",
              "</div>"
            ],
            "text/plain": [
              "   Female  Male\n",
              "0       1     0\n",
              "1       1     0\n",
              "2       0     1\n",
              "3       0     1\n",
              "4       0     1"
            ]
          },
          "metadata": {
            "tags": []
          },
          "execution_count": 35
        }
      ]
    },
    {
      "cell_type": "markdown",
      "metadata": {
        "id": "Wuoyc5AqeHDJ"
      },
      "source": [
        "Joining original data frame (df) with gender dummies data frame (gender_dummies)"
      ]
    },
    {
      "cell_type": "code",
      "metadata": {
        "colab": {
          "base_uri": "https://localhost:8080/",
          "height": 417
        },
        "id": "7XBSYuHbdt_S",
        "outputId": "d4cb43ca-9550-4d9a-be9f-9fe9f609afe9"
      },
      "source": [
        "df = pd.concat([df, gender_dummies], axis = 1)\r\n",
        "df.head()"
      ],
      "execution_count": null,
      "outputs": [
        {
          "output_type": "execute_result",
          "data": {
            "text/html": [
              "<div>\n",
              "<style scoped>\n",
              "    .dataframe tbody tr th:only-of-type {\n",
              "        vertical-align: middle;\n",
              "    }\n",
              "\n",
              "    .dataframe tbody tr th {\n",
              "        vertical-align: top;\n",
              "    }\n",
              "\n",
              "    .dataframe thead th {\n",
              "        text-align: right;\n",
              "    }\n",
              "</style>\n",
              "<table border=\"1\" class=\"dataframe\">\n",
              "  <thead>\n",
              "    <tr style=\"text-align: right;\">\n",
              "      <th></th>\n",
              "      <th>Invoice ID</th>\n",
              "      <th>Branch</th>\n",
              "      <th>City</th>\n",
              "      <th>Customer type</th>\n",
              "      <th>Gender</th>\n",
              "      <th>Product line</th>\n",
              "      <th>Unit price</th>\n",
              "      <th>Quantity</th>\n",
              "      <th>Tax 5%</th>\n",
              "      <th>Total</th>\n",
              "      <th>Date</th>\n",
              "      <th>Time</th>\n",
              "      <th>Payment</th>\n",
              "      <th>cogs</th>\n",
              "      <th>gross margin percentage</th>\n",
              "      <th>gross income</th>\n",
              "      <th>Rating</th>\n",
              "      <th>weekday</th>\n",
              "      <th>month_name</th>\n",
              "      <th>Hour</th>\n",
              "      <th>Female</th>\n",
              "      <th>Male</th>\n",
              "    </tr>\n",
              "  </thead>\n",
              "  <tbody>\n",
              "    <tr>\n",
              "      <th>0</th>\n",
              "      <td>750-67-8428</td>\n",
              "      <td>A</td>\n",
              "      <td>North South Delhi</td>\n",
              "      <td>Member</td>\n",
              "      <td>Female</td>\n",
              "      <td>Health and beauty</td>\n",
              "      <td>74.69</td>\n",
              "      <td>7.0</td>\n",
              "      <td>26.1415</td>\n",
              "      <td>548.9715</td>\n",
              "      <td>2019-01-05</td>\n",
              "      <td>2021-02-26 13:08:00</td>\n",
              "      <td>Ewallet</td>\n",
              "      <td>470.547</td>\n",
              "      <td>14.285714</td>\n",
              "      <td>78.4245</td>\n",
              "      <td>9.1</td>\n",
              "      <td>Saturday</td>\n",
              "      <td>January</td>\n",
              "      <td>13</td>\n",
              "      <td>1</td>\n",
              "      <td>0</td>\n",
              "    </tr>\n",
              "    <tr>\n",
              "      <th>1</th>\n",
              "      <td>226-31-3081</td>\n",
              "      <td>C</td>\n",
              "      <td>West Delhi</td>\n",
              "      <td>Normal</td>\n",
              "      <td>Female</td>\n",
              "      <td>Electronic accessories</td>\n",
              "      <td>15.28</td>\n",
              "      <td>5.0</td>\n",
              "      <td>3.8200</td>\n",
              "      <td>80.2200</td>\n",
              "      <td>2019-03-08</td>\n",
              "      <td>2021-02-26 10:29:00</td>\n",
              "      <td>Cash</td>\n",
              "      <td>68.760</td>\n",
              "      <td>14.285714</td>\n",
              "      <td>11.4600</td>\n",
              "      <td>9.6</td>\n",
              "      <td>Friday</td>\n",
              "      <td>March</td>\n",
              "      <td>10</td>\n",
              "      <td>1</td>\n",
              "      <td>0</td>\n",
              "    </tr>\n",
              "    <tr>\n",
              "      <th>2</th>\n",
              "      <td>631-41-3108</td>\n",
              "      <td>A</td>\n",
              "      <td>North South Delhi</td>\n",
              "      <td>Normal</td>\n",
              "      <td>Male</td>\n",
              "      <td>Home and lifestyle</td>\n",
              "      <td>46.33</td>\n",
              "      <td>7.0</td>\n",
              "      <td>16.2155</td>\n",
              "      <td>340.5255</td>\n",
              "      <td>2019-03-03</td>\n",
              "      <td>2021-02-26 13:23:00</td>\n",
              "      <td>Credit card</td>\n",
              "      <td>291.879</td>\n",
              "      <td>14.285714</td>\n",
              "      <td>48.6465</td>\n",
              "      <td>7.4</td>\n",
              "      <td>Sunday</td>\n",
              "      <td>March</td>\n",
              "      <td>13</td>\n",
              "      <td>0</td>\n",
              "      <td>1</td>\n",
              "    </tr>\n",
              "    <tr>\n",
              "      <th>3</th>\n",
              "      <td>123-19-1176</td>\n",
              "      <td>A</td>\n",
              "      <td>North South Delhi</td>\n",
              "      <td>Member</td>\n",
              "      <td>Male</td>\n",
              "      <td>Health and beauty</td>\n",
              "      <td>58.22</td>\n",
              "      <td>8.0</td>\n",
              "      <td>23.2880</td>\n",
              "      <td>489.0480</td>\n",
              "      <td>2019-01-27</td>\n",
              "      <td>2021-02-26 20:33:00</td>\n",
              "      <td>Ewallet</td>\n",
              "      <td>419.184</td>\n",
              "      <td>14.285714</td>\n",
              "      <td>69.8640</td>\n",
              "      <td>8.4</td>\n",
              "      <td>Sunday</td>\n",
              "      <td>January</td>\n",
              "      <td>20</td>\n",
              "      <td>0</td>\n",
              "      <td>1</td>\n",
              "    </tr>\n",
              "    <tr>\n",
              "      <th>4</th>\n",
              "      <td>373-73-7910</td>\n",
              "      <td>A</td>\n",
              "      <td>North South Delhi</td>\n",
              "      <td>Normal</td>\n",
              "      <td>Male</td>\n",
              "      <td>Sports and travel</td>\n",
              "      <td>86.31</td>\n",
              "      <td>7.0</td>\n",
              "      <td>30.2085</td>\n",
              "      <td>634.3785</td>\n",
              "      <td>2019-02-08</td>\n",
              "      <td>2021-02-26 10:37:00</td>\n",
              "      <td>Ewallet</td>\n",
              "      <td>543.753</td>\n",
              "      <td>14.285714</td>\n",
              "      <td>90.6255</td>\n",
              "      <td>5.3</td>\n",
              "      <td>Friday</td>\n",
              "      <td>February</td>\n",
              "      <td>10</td>\n",
              "      <td>0</td>\n",
              "      <td>1</td>\n",
              "    </tr>\n",
              "  </tbody>\n",
              "</table>\n",
              "</div>"
            ],
            "text/plain": [
              "    Invoice ID Branch               City  ... Hour Female Male\n",
              "0  750-67-8428      A  North South Delhi  ...   13      1    0\n",
              "1  226-31-3081      C         West Delhi  ...   10      1    0\n",
              "2  631-41-3108      A  North South Delhi  ...   13      0    1\n",
              "3  123-19-1176      A  North South Delhi  ...   20      0    1\n",
              "4  373-73-7910      A  North South Delhi  ...   10      0    1\n",
              "\n",
              "[5 rows x 22 columns]"
            ]
          },
          "metadata": {
            "tags": []
          },
          "execution_count": 36
        }
      ]
    },
    {
      "cell_type": "code",
      "metadata": {
        "colab": {
          "base_uri": "https://localhost:8080/",
          "height": 480
        },
        "id": "gz21_BUA-Tod",
        "outputId": "afdd0aa7-5b8c-4b18-d309-3470afb8f929"
      },
      "source": [
        "plt.figure(figsize=(12, 6))\r\n",
        "plt.title('Total Mothly transaction')\r\n",
        "sns.countplot(dfs['Product line'], hue = dfs.Gender_Male)"
      ],
      "execution_count": null,
      "outputs": [
        {
          "output_type": "stream",
          "text": [
            "/usr/local/lib/python3.7/dist-packages/seaborn/_decorators.py:43: FutureWarning: Pass the following variable as a keyword arg: x. From version 0.12, the only valid positional argument will be `data`, and passing other arguments without an explicit keyword will result in an error or misinterpretation.\n",
            "  FutureWarning\n"
          ],
          "name": "stderr"
        },
        {
          "output_type": "execute_result",
          "data": {
            "text/plain": [
              "<matplotlib.axes._subplots.AxesSubplot at 0x7f4230190610>"
            ]
          },
          "metadata": {
            "tags": []
          },
          "execution_count": 97
        },
        {
          "output_type": "display_data",
          "data": {
            "image/png": "[encoded data removed]",
            "text/plain": [
              "<Figure size 864x432 with 1 Axes>"
            ]
          },
          "metadata": {
            "tags": [],
            "needs_background": "light"
          }
        }
      ]
    },
    {
      "cell_type": "code",
      "metadata": {
        "colab": {
          "base_uri": "https://localhost:8080/",
          "height": 480
        },
        "id": "Ofnbo2ah-zj4",
        "outputId": "894dcb5f-8870-4c64-cf13-6abb7a0a756c"
      },
      "source": [
        "cat_feats = ['Gender']\r\n",
        "dfs = pd.get_dummies(df, columns=cat_feats, drop_first=True)\r\n",
        "plt.figure(figsize=(12, 6))\r\n",
        "plt.title('Total Mothly transaction')\r\n",
        "sns.countplot(dfs['Product line'], hue = dfs.Gender_Male)"
      ],
      "execution_count": null,
      "outputs": [
        {
          "output_type": "stream",
          "text": [
            "/usr/local/lib/python3.7/dist-packages/seaborn/_decorators.py:43: FutureWarning: Pass the following variable as a keyword arg: x. From version 0.12, the only valid positional argument will be `data`, and passing other arguments without an explicit keyword will result in an error or misinterpretation.\n",
            "  FutureWarning\n"
          ],
          "name": "stderr"
        },
        {
          "output_type": "execute_result",
          "data": {
            "text/plain": [
              "<matplotlib.axes._subplots.AxesSubplot at 0x7f4232517550>"
            ]
          },
          "metadata": {
            "tags": []
          },
          "execution_count": 38
        },
        {
          "output_type": "display_data",
          "data": {
            "image/png": "[encoded data removed]",
            "text/plain": [
              "<Figure size 864x432 with 1 Axes>"
            ]
          },
          "metadata": {
            "tags": [],
            "needs_background": "light"
          }
        }
      ]
    },
    {
      "cell_type": "code",
      "metadata": {
        "colab": {
          "base_uri": "https://localhost:8080/",
          "height": 407
        },
        "id": "I8fSS-RFdt8b",
        "outputId": "9c02ed4c-f05e-4f64-cead-409f4b84be1b"
      },
      "source": [
        "plt.figure(figsize = (12,6))\r\n",
        "sns.barplot(x = 'Product line', y = 'Female', data = df)"
      ],
      "execution_count": null,
      "outputs": [
        {
          "output_type": "execute_result",
          "data": {
            "text/plain": [
              "<matplotlib.axes._subplots.AxesSubplot at 0x7f423250e950>"
            ]
          },
          "metadata": {
            "tags": []
          },
          "execution_count": 39
        },
        {
          "output_type": "display_data",
          "data": {
            "image/png": "[encoded data removed]",
            "text/plain": [
              "<Figure size 864x432 with 1 Axes>"
            ]
          },
          "metadata": {
            "tags": [],
            "needs_background": "light"
          }
        }
      ]
    },
    {
      "cell_type": "markdown",
      "metadata": {
        "id": "VyuuOq80eZLw"
      },
      "source": [
        "**Max Average Sales of Fashion Accessories is from Females**\r\n"
      ]
    },
    {
      "cell_type": "markdown",
      "metadata": {
        "id": "OyvjNMOhAnNg"
      },
      "source": [
        "# Problem 4 \r\n",
        "Meliance superstore is planning to open a new store in East Delhi.\r\n",
        "Through present customer data, find out the product category/s which\r\n",
        "would be best suited for the new store."
      ]
    },
    {
      "cell_type": "code",
      "metadata": {
        "colab": {
          "base_uri": "https://localhost:8080/",
          "height": 273
        },
        "id": "5ZRwvOJqiG5f",
        "outputId": "28b6bb74-a156-42fc-b47a-8ece667f6daa"
      },
      "source": [
        "plt.figure(dpi=70)\r\n",
        "sns.countplot(y ='Product line', hue = \"City\", data = df) \r\n",
        "plt.xlabel('Count')\r\n",
        "plt.ylabel('Product Type')\r\n",
        "plt.show()"
      ],
      "execution_count": null,
      "outputs": [
        {
          "output_type": "display_data",
          "data": {
            "image/png": "[encoded data removed]",
            "text/plain": [
              "<Figure size 420x280 with 1 Axes>"
            ]
          },
          "metadata": {
            "tags": [],
            "needs_background": "light"
          }
        }
      ]
    },
    {
      "cell_type": "code",
      "metadata": {
        "colab": {
          "base_uri": "https://localhost:8080/",
          "height": 298
        },
        "id": "IV4dO9GNi0Tn",
        "outputId": "8ca330b7-754a-4756-d39e-eeefa1658c60"
      },
      "source": [
        "sns.countplot(y = 'Product line', data=df, order = df['Product line'].value_counts().index )"
      ],
      "execution_count": null,
      "outputs": [
        {
          "output_type": "execute_result",
          "data": {
            "text/plain": [
              "<matplotlib.axes._subplots.AxesSubplot at 0x7f423232fcd0>"
            ]
          },
          "metadata": {
            "tags": []
          },
          "execution_count": 41
        },
        {
          "output_type": "display_data",
          "data": {
            "image/png": "[encoded data removed]",
            "text/plain": [
              "<Figure size 432x288 with 1 Axes>"
            ]
          },
          "metadata": {
            "tags": [],
            "needs_background": "light"
          }
        }
      ]
    },
    {
      "cell_type": "code",
      "metadata": {
        "colab": {
          "base_uri": "https://localhost:8080/",
          "height": 480
        },
        "id": "PfqBprTkjIMx",
        "outputId": "5713be9d-eebd-43ee-e888-e14a29e27c71"
      },
      "source": [
        "plt.figure(figsize=(12, 6))\r\n",
        "plt.title('Total Mothly transaction')\r\n",
        "sns.countplot(df['Branch'], hue = df['Product line'])"
      ],
      "execution_count": null,
      "outputs": [
        {
          "output_type": "stream",
          "text": [
            "/usr/local/lib/python3.7/dist-packages/seaborn/_decorators.py:43: FutureWarning: Pass the following variable as a keyword arg: x. From version 0.12, the only valid positional argument will be `data`, and passing other arguments without an explicit keyword will result in an error or misinterpretation.\n",
            "  FutureWarning\n"
          ],
          "name": "stderr"
        },
        {
          "output_type": "execute_result",
          "data": {
            "text/plain": [
              "<matplotlib.axes._subplots.AxesSubplot at 0x7f423233b710>"
            ]
          },
          "metadata": {
            "tags": []
          },
          "execution_count": 42
        },
        {
          "output_type": "display_data",
          "data": {
            "image/png": "[encoded data removed]",
            "text/plain": [
              "<Figure size 864x432 with 1 Axes>"
            ]
          },
          "metadata": {
            "tags": [],
            "needs_background": "light"
          }
        }
      ]
    },
    {
      "cell_type": "markdown",
      "metadata": {
        "id": "ZVWMim3AkxY1"
      },
      "source": [
        "From the above visualisation, Most customers purchase Home and Lifestyle products from branch A than C, Fashion accessories has most customers in branches C and B than in A and finally Sports and travel has most customers in branch B than in the rest. By this, We deduce that instead of commodities taking longer in the store they can be transfered to branches where their demand is high, e.g Part of Home and Lifestyle products can be taken to branch A to C because there are approximately 5 customers in Branch A for every single customer in brach C for the same commodity."
      ]
    },
    {
      "cell_type": "code",
      "metadata": {
        "colab": {
          "base_uri": "https://localhost:8080/",
          "height": 371
        },
        "id": "MqLyANlvknwV",
        "outputId": "8d0c37ce-023d-43d4-aa35-0f0444278865"
      },
      "source": [
        "#plt.figure(figsize=(12, 6))\r\n",
        "plt.title('Frequency of purchases genderwise')\r\n",
        "sns.countplot(df['City'], hue=dfs['Gender_Male'])"
      ],
      "execution_count": null,
      "outputs": [
        {
          "output_type": "stream",
          "text": [
            "/usr/local/lib/python3.7/dist-packages/seaborn/_decorators.py:43: FutureWarning: Pass the following variable as a keyword arg: x. From version 0.12, the only valid positional argument will be `data`, and passing other arguments without an explicit keyword will result in an error or misinterpretation.\n",
            "  FutureWarning\n"
          ],
          "name": "stderr"
        },
        {
          "output_type": "execute_result",
          "data": {
            "text/plain": [
              "<matplotlib.axes._subplots.AxesSubplot at 0x7f423222d850>"
            ]
          },
          "metadata": {
            "tags": []
          },
          "execution_count": 43
        },
        {
          "output_type": "display_data",
          "data": {
            "image/png": "[encoded data removed]",
            "text/plain": [
              "<Figure size 432x288 with 1 Axes>"
            ]
          },
          "metadata": {
            "tags": [],
            "needs_background": "light"
          }
        }
      ]
    },
    {
      "cell_type": "markdown",
      "metadata": {
        "id": "43-kzBlblHDw"
      },
      "source": [
        "In Branch A(North South Delhi), the active purchase gender is Male and in B(West Delhi City) its Female"
      ]
    },
    {
      "cell_type": "code",
      "metadata": {
        "colab": {
          "base_uri": "https://localhost:8080/"
        },
        "id": "ewuwcUQEFDZ8",
        "outputId": "057bdd1e-1473-4446-c796-21b4f73d7c9c"
      },
      "source": [
        "df['Product line'].value_counts(ascending = True)\r\n"
      ],
      "execution_count": null,
      "outputs": [
        {
          "output_type": "execute_result",
          "data": {
            "text/plain": [
              "Health and beauty         152\n",
              "Home and lifestyle        160\n",
              "Sports and travel         166\n",
              "Electronic accessories    172\n",
              "Food and beverages        174\n",
              "Fashion accessories       179\n",
              "Name: Product line, dtype: int64"
            ]
          },
          "metadata": {
            "tags": []
          },
          "execution_count": 44
        }
      ]
    },
    {
      "cell_type": "code",
      "metadata": {
        "colab": {
          "base_uri": "https://localhost:8080/",
          "height": 800
        },
        "id": "gql14NzfGsI4",
        "outputId": "f1124e9f-104d-4663-de44-38d40b44a7b0"
      },
      "source": [
        "sns.catplot(x='Product line',y='Unit price',kind='point',data=df,aspect=2)\r\n",
        "plt.title('Product line per Unit price')\r\n",
        "sns.catplot(x='Product line',y='Quantity',kind='point',data=df,aspect=2)\r\n",
        "plt.title('Product line per Quantity')"
      ],
      "execution_count": null,
      "outputs": [
        {
          "output_type": "execute_result",
          "data": {
            "text/plain": [
              "Text(0.5, 1.0, 'Product line per Quantity')"
            ]
          },
          "metadata": {
            "tags": []
          },
          "execution_count": 45
        },
        {
          "output_type": "display_data",
          "data": {
            "image/png": "[encoded data removed]",
            "text/plain": [
              "<Figure size 720x360 with 1 Axes>"
            ]
          },
          "metadata": {
            "tags": [],
            "needs_background": "light"
          }
        },
        {
          "output_type": "display_data",
          "data": {
            "image/png": "[encoded data removed]",
            "text/plain": [
              "<Figure size 720x360 with 1 Axes>"
            ]
          },
          "metadata": {
            "tags": [],
            "needs_background": "light"
          }
        }
      ]
    },
    {
      "cell_type": "markdown",
      "metadata": {
        "id": "iTZpiNnHHIda"
      },
      "source": [
        "Electronic accessoires has the low Unit price, on the other hand it has the high quantity of products purchased by customer => Customers want to buy the cheap products like Electronic accessoires , Health & Beaty and Home & Lifestyle."
      ]
    },
    {
      "cell_type": "markdown",
      "metadata": {
        "id": "JqB8DqDTimYS"
      },
      "source": [
        "**Fashion accessories , food and beverages and Electronic accessories will be most suitable for the new store**"
      ]
    },
    {
      "cell_type": "markdown",
      "metadata": {
        "id": "LBM2LTzPt-um"
      },
      "source": [
        "Name- Mahak Mahajan\r\n",
        "\r\n",
        "College- Shaheed Rajguru College of Applied Sciences\r\n",
        "\r\n",
        "Contact Number- 8285668995\r\n"
      ]
    }
  ]
}